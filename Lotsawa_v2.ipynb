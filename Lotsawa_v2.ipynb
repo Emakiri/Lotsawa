{
 "cells": [
  {
   "cell_type": "markdown",
   "metadata": {},
   "source": [
    "#### Lotsawa"
   ]
  },
  {
   "cell_type": "code",
   "execution_count": null,
   "metadata": {},
   "outputs": [],
   "source": [
    "%cd C:\\Users\\Emakiri\\1_DOCUMENTS\\@_DEVeloping\\Lotsawa\n",
    "%pwd"
   ]
  },
  {
   "cell_type": "markdown",
   "metadata": {},
   "source": [
    "##### 0. Подготовка (форматирование) строки/текста"
   ]
  },
  {
   "cell_type": "code",
   "execution_count": 4,
   "metadata": {},
   "outputs": [
    {
     "name": "stdout",
     "output_type": "stream",
     "text": [
      "༁ྃ༔ <div class=\"cite_src\">བླ་མའི་ཐུགས་སྒྲུབ་རྡོ་རྗེ་དྲག་རྩལ་ལས༔</div> <h1 class=\"Toc\">ཞལ་གདམས་ལམ་རིམ་ཡེ་ཤེས་སྙིང་པོ་བཞུགས་སོ༔</h1>\n",
      " སངས་རྒྱས་བསྟན་པའི་རྒྱལ་མཚན་ཕྱོགས་བཅུར་བསྒྲེངས༔ \n",
      "<h4 class=\"Topic\">དང་པོ་༼མཚན་དངོས་བཀོད་༽ནི།</h4>\n",
      "  ལས་ཅན་སྨིན་གྲོལ་བྱང་ཆུབ་ལམ་ལ་བཀོད༔ འབྲེལ་ཚད་དོན་ལྡན་ངོ་མཚར་བསམ་ལས་འདས༔ མཚན་ལས་བརྩམས་པའི་མཐའ་དཔྱད་དོ། </br><div class=\"cite_src\">བླ་མའི་ཐུགས་སྒྲུབ་རྡོ་རྗེ་དྲག་རྩལ་ལས༔</div> <div class=\"cite\">ཞལ་གདམས་ལམ་རིམ་ཡེ་ཤེས་སྙིང་པོ༔ </br>ཞལ་གདམས་ལམ་རིམ་ཡེ་ཤེས་སྙིང་པོ༔</div> ཞེས་པའོ།། </br>།ཨོ་རྒྱན་བདག་གིས་རྒྱུད་ལུང་དང་༔ \n",
      "<h4 class=\"Topic\">མན་ངག་གཞན་ལ་བརྟེན་ནས་ནི༔</h4>\n",
      " འབྲེལ་བའི་ཚུལ་དུ་མ་བཀྲལ་བར༔ རྒྱུད་ལུང་མན་ངག་ངེས་པའི་དོན༔ སྙིང་པོ་ལས་ཀྱང་སྙིང་པོའི་བཅུད༔ ཐུགས་ཀྱི་ཐིག་ལེར་རབ་ཞུགས་པོ༔  </br>ཆོས་ཉིད་རང་སྒྲར་སྣང་བས་ན༔ རྒྱུད་དང་མི་འགལ་ལུང་དང་མཐུན༔ མན་ངག་མྱོང་བས་ཁྱད་འཕགས་པ༔ ཞེས་གསུངས་པ་ལྟར་རོ། </br>འབྲེལ་ཚད་དོན་ལྡན་ངོ་མཚར་བསམ་ལས་འདས༔ \n"
     ]
    }
   ],
   "source": [
    "import re\n",
    "\n",
    "#strn=input()\n",
    "strn='''༁ྃ༔ བླ་མའི་ཐུགས་སྒྲུབ་རྡོ་རྗེ་དྲག་རྩལ་ལས༔ ཞལ་གདམས་ལམ་རིམ་ཡེ་ཤེས་སྙིང་པོ་བཞུགས་སོ༔ སངས་རྒྱས་བསྟན་པའི་རྒྱལ་མཚན་ཕྱོགས་བཅུར་བསྒྲེངས༔ དང་པོ་༼མཚན་དངོས་བཀོད་༽ནི།  ལས་ཅན་སྨིན་གྲོལ་བྱང་ཆུབ་ལམ་ལ་བཀོད༔ འབྲེལ་ཚད་དོན་ལྡན་ངོ་མཚར་བསམ་ལས་འདས༔ མཚན་ལས་བརྩམས་པའི་མཐའ་དཔྱད་དོ། བླ་མའི་ཐུགས་སྒྲུབ་རྡོ་རྗེ་དྲག་རྩལ་ལས༔ ཞལ་གདམས་ལམ་རིམ་ཡེ་ཤེས་སྙིང་པོ༔ ཞལ་གདམས་ལམ་རིམ་ཡེ་ཤེས་སྙིང་པོ༔ ཞེས་པའོ།། །ཨོ་རྒྱན་བདག་གིས་རྒྱུད་ལུང་དང་༔ མན་ངག་གཞན་ལ་བརྟེན་ནས་ནི༔ འབྲེལ་བའི་ཚུལ་དུ་མ་བཀྲལ་བར༔ རྒྱུད་ལུང་མན་ངག་ངེས་པའི་དོན༔ སྙིང་པོ་ལས་ཀྱང་སྙིང་པོའི་བཅུད༔ ཐུགས་ཀྱི་ཐིག་ལེར་རབ་ཞུགས་པོ༔  ཆོས་ཉིད་རང་སྒྲར་སྣང་བས་ན༔ རྒྱུད་དང་མི་འགལ་ལུང་དང་མཐུན༔ མན་ངག་མྱོང་བས་ཁྱད་འཕགས་པ༔ ཞེས་གསུངས་པ་ལྟར་རོ། འབྲེལ་ཚད་དོན་ལྡན་ངོ་མཚར་བསམ་ལས་འདས༔ '''\n",
    "\n",
    "# 1. Название\n",
    "strn=re.sub(f'\\n*(\\S+?བཞུགས་སོ[།༔])\\n*', r'<h1 class=\"Toc\">\\1</h1>\\n',strn)\n",
    "\n",
    "# 2. Тема - подзаголовок + \\n\n",
    "strn=re.sub(f'\\n*(\\S+?ནི[།༔])\\n*', r'\\n<h4 class=\"Topic\">\\1</h4>\\n',strn)   \n",
    "\n",
    "# 4. из А (источник цитаты) +\\n\n",
    "strn=re.sub(f'(\\S+?ལས[།༔])', r'<div class=\"cite_src\">\\1</div>',strn)\n",
    "\n",
    "#  3. Цитата +\\n\n",
    "strn=re.sub(r'(ལས[༔།]</div>\\s)(.+?[༔།]+)([\\s།]+ཞེས)', '\\\\1<div class=\"cite\">\\\\2</div>\\\\3',strn, 0)\n",
    "#ལས[༔།]</div>\\s(.+?[༔།]+)[\\s།]+ཞེས\n",
    "\n",
    "# 0.5 Конец абзаца (заключающий помощник གོ ངོ དོ ནོ བོ མོ རོ ལོ སོ ཏོ после второго суффикса ད་; འོ་ - после слога без суффикса)\n",
    "strn=re.sub(f'(ག་གོ|ང་ངོ[་]*|ད་དོ|ན་ནོ|བ་བོ|མ་མོ|ར་རོ|ལ་ལོ|ས་སོ|ད་ཏོ|འོ)([༔།\s\t]+)', r'\1\2<br>',strn)\n",
    "#strn=re.sub(f'([༄༅། ༿༧་|]*\\S+?)({syl})([་༔།༾ཿ |]+)', r\"\\1་\\2\\3\", strn)\n",
    "\n",
    "\n",
    "print(strn)"
   ]
  },
  {
   "cell_type": "code",
   "execution_count": null,
   "metadata": {},
   "outputs": [],
   "source": [
    "print(res_str)"
   ]
  },
  {
   "cell_type": "markdown",
   "metadata": {},
   "source": [
    "##### 1. Разбираем строку для перевода"
   ]
  },
  {
   "cell_type": "code",
   "execution_count": 5,
   "metadata": {},
   "outputs": [
    {
     "name": "stdout",
     "output_type": "stream",
     "text": [
      "['འབྲེལ་བ', 'བསྒྲེངས', 'དོན་ལྡན', 'སྙིང་པོ', 'ཞུགས་པོ', 'གསུངས', 'བརྟེན', 'བཞུགས', 'བརྩམས', 'ཕྱོགས', 'འབྲེལ', 'རྒྱུད', 'ལས་ཅན', 'སྒྲུབ', 'དང་པོ', 'དངོས', 'གདམས', 'སྨིན', 'བཀྲལ', 'བཅུད', 'མཐུན', 'གྲོལ', 'བཀོད', 'བཅུར', 'བསྟན', 'འཕགས', 'མྱོང', 'རྒྱལ', 'སྒྲར', 'རྒྱས', 'ཐུགས', 'དཔྱད', 'རྒྱན', 'བདག', 'ལུང', 'འགལ', 'རྗེ', 'ཐིག', 'རིམ', 'འདས', 'བྱང', 'རྡོ', 'ཀྱང', 'བསམ', 'ཞེས', 'ལེར', 'སངས', 'སྣང', 'ཁྱད', 'ཚུལ', 'ངེས', 'ཀྱི', 'མཚར', 'མཐའ', 'རྩལ', 'དོན', 'མཚན', 'ཆོས', 'ཆུབ', 'ལྟར', 'དྲག', 'ཉིད', 'གིས', 'གཞན', 'ཤེས', 'ཚད', 'དང', 'མི', 'ཡེ', 'རབ', 'མན', 'ནི', 'ལམ', 'བར', 'ངག', 'བླ', 'འི', 'བས', 'དོ', 'སོ', '༁ྃ', 'རང', 'ཨོ', 'ཞལ', 'ནས', 'ངོ', 'དུ', 'རོ', 'ལས', 'འོ', 'ན', 'མ', 'པ', 'ལ']\n"
     ]
    }
   ],
   "source": [
    "#strn=input()\n",
    "#strn='''༄༅།། །བདུད་འཇོམས་གཏེར་གསར་ཁྲོས་མའི་ཆོ་གའིས་དཔལ་བྲག་དམར་ནམ་མཁའ་ཁྱུང་རྫོང་ ༧སྐྱབས་རྗེ་པདྨ་བདེ་བའི་རྒྱལ་པོའི་ཞལ་རྒྱུན་སྟོད་ལུགས་ལྟར་བཞུགས་སོ།། \n",
    "#    ༄༅། །རུ། །རྟོགས་གྲོལ་མངོན་གྱུར་སངས་རྒྱས་ཐོབ་པར་ཤོག ཕྚ༔ ༿གཅོད་ཡུལ་བགྱུད་པའི་གསོལ་འདེབས་བཞུགས༔༾ སངས ཕཊ༔ ན་མོཿ སྐྱེ་རྒུའི་མགོན་པོ་སངས་རྒྱས་བཅོམ་ལྡན་འདས༔ \n",
    "#    རྒྱལ་བ་རིང་པོ་ཆེ་ག་པར་ཕེབས་ནའང་ག་དུས་གསུང་ནའང་སེམས་བཟང་པོ་བྱེད་དགོས་རེད་གསུང་གི་ཡོད་པ་རེད།'''\n",
    "\n",
    "#1. отлепляем ->འི от слога\n",
    "for syl in ['འི', 'འིས', 'འང', 'འམ', 'འོ']: # исключил доп.строк - 'ར', 'འུ'  \n",
    "    strn=re.sub(f'([༄༅། ༿༧་|<\\a-z>]*\\S+?)({syl})([་༔།༾ཿ |]+)', r\"\\1་\\2\\3\", strn)\n",
    "    #print(strn) \n",
    "\n",
    "#2. Парсим Строку для перевода -> list список слов из строки \n",
    "strn_lst=re.findall(r'[༄༅།༼༽ ༿༧་|<\\a-z>]*(\\S+?)[་༔།༾ཿ |]+', strn)\n",
    "\n",
    "#3. присоединяем персонификаторы к пред слогу в -> strn_lst\n",
    "for ind, syl in enumerate(strn_lst):\n",
    "    if syl in ['པོ', 'བ', 'བོ', 'མོ', 'ཀོ', 'ཅན', 'ལྡན', 'མཁན']: # исключил - མ, ཀ, ཁ, ག, པ\n",
    "        strn_lst[ind-1]=strn_lst[ind-1]+'་'+strn_lst.pop(ind)\n",
    "\n",
    "# TODO Усложняем логику парсинга\n",
    "#print(res_strn)\n",
    "strn_lst=list(set(strn_lst))\n",
    "strn_lst.sort(key=len, reverse=True) # сортируем - max_len в начало\n",
    "print(strn_lst)\n"
   ]
  },
  {
   "cell_type": "markdown",
   "metadata": {},
   "source": [
    "##### 2. а) Разбираем частицы"
   ]
  },
  {
   "cell_type": "code",
   "execution_count": 6,
   "metadata": {},
   "outputs": [],
   "source": [
    "import yaml\n",
    "# А.Парсим Dict.yaml -> dict\n",
    "with open('Dict.yaml', 'r', encoding='utf-8')as f:\n",
    "    dct_ptcl=yaml.full_load(f)"
   ]
  },
  {
   "cell_type": "markdown",
   "metadata": {},
   "source": [
    "##### 2. б) Ищем частицы в составе словосочетаний по словарю; в) Ищем словосочетания по строке"
   ]
  },
  {
   "cell_type": "code",
   "execution_count": 7,
   "metadata": {},
   "outputs": [
    {
     "name": "stdout",
     "output_type": "stream",
     "text": [
      "༁ྃ༔ <div class=\"cite_src\">བླ་མ་|་ཐུགས་|་རྡོ་|་|་|་|༔</div> <h1 class=\"Toc\">ཞལ་|་|་རིམ་ཡེ་|་སྙིང་པོ་|༔</h1>\n",
      " |་|་|་པ་|་|་|་ཕྱོགས་བཅུར་|༔ \n",
      "<h4 class=\"Topic\">དང་པོ་༼|་དངོས་|་༽|།</h4>\n",
      "  |་|་|་|་བྱང་ཆུབ་|་|་|༔ |་ཚད་དོན་|་ངོ་|་|་|་|༔ |་|་|་པ་|་མཐའ་|་དོ། </br><div class=\"cite_src\">བླ་མ་|་ཐུགས་|་རྡོ་|་|་|་|༔</div> <div class=\"cite\">ཞལ་|་|་རིམ་ཡེ་|་སྙིང་པོ༔ </br>ཞལ་|་|་རིམ་ཡེ་|་སྙིང་པོ༔</div> |་པ་|།། </br>།ཨོ་|་|་|་རྒྱུད་ལུང་|་༔ \n",
      "<h4 class=\"Topic\">མན་ངག་གཞན་|་|་|་|༔</h4>\n",
      " |་བ་|་ཚུལ་|་མ་བཀྲལ་བར༔ རྒྱུད་ལུང་མན་ངག་|་པ་|་དོན༔ སྙིང་པོ་|་|་སྙིང་པོ་|་བཅུད༔ ཐུགས་|་ཐིག་ལེར་རབ་ཞུགས་པོ༔  </br>ཆོས་ཉིད་རང་སྒྲར་|་བས་|༔ རྒྱུད་|་མི་|་ལུང་|་མཐུན༔ མན་ངག་|་བས་ཁྱད་|་པ༔ |་|་པ་|་རོ། </br>འབྲེལ་ཚད་དོན་|་ངོ་|་|་|་|༔ \n",
      "༁ྃ༔ <div class=\"cite_src\">བླ་མ་[འི]་ཐུགས་[སྒྲུབ]་རྡོ་[རྗེ]་[དྲག]་[རྩལ]་[ལས]༔</div> <h1 class=\"Toc\">ཞལ་[གདམས]་[ལམ]་རིམ་ཡེ་[ཤེས]་སྙིང་པོ་[བཞུགས་སོ]༔</h1>\n",
      " སངས་[རྒྱས]་[བསྟན]་པ་[འི]་[རྒྱལ]་[མཚན]་ཕྱོགས་བཅུར་[བསྒྲེངས]༔ \n",
      "<h4 class=\"Topic\">དང་པོ་༼[མཚན]་དངོས་[བཀོད]་༽[ནི]།</h4>\n",
      "  ལས་[ཅན]་[སྨིན]་[གྲོལ]་བྱང་ཆུབ་[ལམ]་[ལ]་[བཀོད]༔ འབྲེལ་ཚད་དོན་[ལྡན]་ངོ་[མཚར]་[བསམ]་[ལས]་[འདས]༔ མཚན་[ལས]་[བརྩམས]་པ་[འི]་མཐའ་[དཔྱད]་དོ། </br><div class=\"cite_src\">བླ་མ་[འི]་ཐུགས་[སྒྲུབ]་རྡོ་[རྗེ]་[དྲག]་[རྩལ]་[ལས]༔</div> <div class=\"cite\">ཞལ་[གདམས]་[ལམ]་རིམ་ཡེ་[ཤེས]་སྙིང་པོ༔ </br>ཞལ་[གདམས]་[ལམ]་རིམ་ཡེ་[ཤེས]་སྙིང་པོ༔</div> ཞེས་པ་[འོ]།། </br>།ཨོ་[རྒྱན]་[བདག]་[གིས]་རྒྱུད་ལུང་[དང]་༔ \n",
      "<h4 class=\"Topic\">མན་ངག་གཞན་[ལ]་[བརྟེན]་[ནས]་[ནི]༔</h4>\n",
      " འབྲེལ་བ་[འི]་ཚུལ་[དུ]་མ་བཀྲལ་བར༔ རྒྱུད་ལུང་མན་ངག་[ངེས]་པ་[འི]་དོན༔ སྙིང་པོ་[ལས]་[ཀྱང]་སྙིང་པོ་[འི]་བཅུད༔ ཐུགས་[ཀྱི]་ཐིག་ལེར་རབ་ཞུགས་པོ༔  </br>ཆོས་ཉིད་རང་སྒྲར་[སྣང]་བས་[ན]༔ རྒྱུད་[དང]་མི་[འགལ]་ལུང་[དང]་མཐུན༔ མན་ངག་[མྱོང]་བས་ཁྱད་[འཕགས]་པ༔ ཞེས་[གསུངས]་པ་[ལྟར]་རོ། </br>འབྲེལ་ཚད་དོན་[ལྡན]་ངོ་[མཚར]་[བསམ]་[ལས]་[འདས]༔ \n"
     ]
    }
   ],
   "source": [
    "#import re\n",
    "# strn              исходная строка для перевода\n",
    "# strn_lst          список слов из строки для перевода\n",
    "# dct_ptcl          словарь частиц из Particles.yaml\n",
    "\n",
    "# sent_lst          список сочетаний со словом из strn_lst\n",
    "res_strn=strn     # копия исходной строка для перевода\n",
    "res_dct={}        # словарь найденных вхождений sent в исход строку \n",
    "\n",
    "for ind, syl in enumerate(strn_lst): # по кажд уник слогу в strn_lst\n",
    "    pattern=f'\\'(\\S*{syl}\\S*?)[་།༔]*\\':'\n",
    "    #print('syl-',syl)\n",
    "\n",
    "    # Б.Поиск по Dict.dict всех вариантов куда входит слог из strn_lst -> sent_lst[список_словосочетаний]\n",
    "    sent_lst=list(set(re.findall(pattern, str(dct_ptcl))))\n",
    "    sent_lst.sort(key=len, reverse=True) # сортируем - max_len в начало\n",
    "    #print(\"сент_лст--\", sent_lst)\n",
    "    #lenth_res_lst=list(range(res_strn.count('་')+1))\n",
    "    \n",
    "    #В.Поиск по strn каждого уник из sent_lst в строке\n",
    "    for sent in sent_lst:\n",
    "        #print(\"сет-\", sent)\n",
    "        #ind=res_strn.find(sent)\n",
    "        if sent in strn and sent not in res_dct: # если sent в исход строке И sent не находили ранее\n",
    "            #strn=strn.replace('་'+str(sent)+'་','་|་') # из исход строки убираем найденное sent  \n",
    "            strn=re.sub(f'([་།༽༼ ༿]+)({str(sent)})([་༽།༔༾]+)', r'\\1|\\3', strn)\n",
    "            #if sent in ['ཡོད','པ', 'བ', 'བོ', 'ཀོ', 'ར']:# если sent-суффикс (не может идти сначала строки)  \n",
    "            #    res_strn=re.sub(f'(\\][་།  ༿]+)({sent})([་། ༔༾]+)', r'\\1['+sent1+']\\3', res_strn) #в дубль_строке заменяем sent \n",
    "            #else:\n",
    "            #print (res_strn) \n",
    "            res_strn=re.sub(f'([་།༔༽༼]+)({str(sent)})([༔་༽།]+)', '\\\\1[\\\\2]\\\\3', res_strn, 0, re.MULTILINE) #в дубль_строке заменяем sent\n",
    "                        \n",
    "            res_dct[sent]=dct_ptcl[sent] # словарь найденных вхождений sent в исход строку\n",
    "\n",
    "print (strn)\n",
    "#res_strn=res_strn.replace('·', '་')\n",
    "print (res_strn) \n",
    "#print(*res_dct.items(), sep=\"\\n\")"
   ]
  },
  {
   "cell_type": "markdown",
   "metadata": {},
   "source": [
    "##### 3. Создаем строки вывода с HTML тегами"
   ]
  },
  {
   "cell_type": "code",
   "execution_count": 8,
   "metadata": {},
   "outputs": [
    {
     "name": "stdout",
     "output_type": "stream",
     "text": [
      "['འི', 'སྒྲུབ', 'རྗེ', 'དྲག', 'རྩལ', 'ལས', 'གདམས', 'ལམ', 'ཤེས', 'བཞུགས་སོ', 'རྒྱས', 'བསྟན', 'རྒྱལ', 'མཚན', 'བསྒྲེངས', 'བཀོད', 'ནི', 'ཅན', 'སྨིན', 'གྲོལ', 'ལ', 'ལྡན', 'མཚར', 'བསམ', 'འདས', 'བརྩམས', 'དཔྱད', 'འོ', 'རྒྱན', 'བདག', 'གིས', 'དང', 'བརྟེན', 'ནས', 'དུ', 'ངེས', 'ཀྱང', 'ཀྱི', 'སྣང', 'ན', 'འགལ', 'མྱོང', 'འཕགས', 'གསུངས', 'ལྟར']\n",
      "༁ྃ༔ <div class=\"cite_src\">བླ་མ་<dfn class=\"cc\" title=\"[['владение/принадлежность', 'соответствующее основе качество', 'место объекта', 'часть из/среди целого'], ['дополнения строф']]\"><a id=\"1_\" href=\"#_1\">འི</a></dfn>་ཐུགས་<dfn class=\"cc\" title=\"['achieve; attain; accomplish; prove; complete; practice']\"><a id=\"2_\" href=\"#_2\">སྒྲུབ</a></dfn>་རྡོ་<dfn class=\"cc\" title=\"['master; lord; leaders']\"><a id=\"3_\" href=\"#_3\">རྗེ</a></dfn>་<dfn class=\"cc\" title=\"['fierce; violent; terrible']\"><a id=\"4_\" href=\"#_4\">དྲག</a></dfn>་<dfn class=\"cc\" title=\"['capacity; manifest capacity; dexterity; power']\"><a id=\"5_\" href=\"#_5\">རྩལ</a></dfn>་<dfn class=\"cc\" title=\"['после', 'затем', 'деепричастие …ев/ув', 'среди различных', 'сравнит чем', 'action; deed; work; having (done something)']\"><a id=\"6_\" href=\"#_6\">ལས</a></dfn>༔</div> <h1 class=\"Toc\">ཞལ་<dfn class=\"cc\" title=\"['advise; counsel']\"><a id=\"7_\" href=\"#_7\">གདམས</a></dfn>་<dfn class=\"cc\" title=\"['..или.', '.?', '.,', 'path; way; road; [connective particle:] and; or']\"><a id=\"8_\" href=\"#_8\">ལམ</a></dfn>་རིམ་ཡེ་<dfn class=\"cc\" title=\"['to know; cognition; consciousness (=shes pa); can  (knowlege); understand, quote (=shes bya ba)']\"><a id=\"9_\" href=\"#_9\">ཤེས</a></dfn>་སྙིང་པོ་<dfn class=\"cc\" title=\"['так называется']\"><a id=\"10_\" href=\"#_10\">བཞུགས་སོ</a></dfn>༔</h1>\n",
      " སངས་<dfn class=\"cc\" title=\"['verb: extend; fill; spread; increase; further; adjective: extensive; broad; wide; full']\"><a id=\"11_\" href=\"#_11\">རྒྱས</a></dfn>་<dfn class=\"cc\" title=\"['to show (past/present/future honorific)']\"><a id=\"12_\" href=\"#_12\">བསྟན</a></dfn>་པ་<dfn class=\"cc\" title=\"[['владение/принадлежность', 'соответствующее основе качество', 'место объекта', 'часть из/среди целого'], ['дополнения строф']]\"><a id=\"1_\" href=\"#_1\">འི</a></dfn>་<dfn class=\"cc\" title=\"['conquest; victory']\"><a id=\"13_\" href=\"#_13\">རྒྱལ</a></dfn>་<dfn class=\"cc\" title=\"['name; characteristic(s){BJ 38.1}; night; sign; mark; symptom; sexual sign; name; marked with']\"><a id=\"14_\" href=\"#_14\">མཚན</a></dfn>་ཕྱོགས་བཅུར་<dfn class=\"cc\" title=\"['raise']\"><a id=\"15_\" href=\"#_15\">བསྒྲེངས</a></dfn>༔ \n",
      "<h4 class=\"Topic\">དང་པོ་༼<dfn class=\"cc\" title=\"['name; characteristic(s){BJ 38.1}; night; sign; mark; symptom; sexual sign; name; marked with']\"><a id=\"14_\" href=\"#_14\">མཚན</a></dfn>་དངོས་<dfn class=\"cc\" title=\"['set; state; establish; arrange; register; make a record; place [on throne]; put [a signature]; array; affix']\"><a id=\"16_\" href=\"#_16\">བཀོད</a></dfn>་༽<dfn class=\"cc\" title=\"['..-', '..касаемо']\"><a id=\"17_\" href=\"#_17\">ནི</a></dfn>།</h4>\n",
      "  ལས་<dfn class=\"cc\" title=\"['обладающий']\"><a id=\"18_\" href=\"#_18\">ཅན</a></dfn>་<dfn class=\"cc\" title=\"['ripen; mature; fructify; [for smin ma:] eyebrow']\"><a id=\"19_\" href=\"#_19\">སྨིན</a></dfn>་<dfn class=\"cc\" title=\"['released; loosened; freed']\"><a id=\"20_\" href=\"#_20\">གྲོལ</a></dfn>་བྱང་ཆུབ་<dfn class=\"cc\" title=\"['..или.', '.?', '.,', 'path; way; road; [connective particle:] and; or']\"><a id=\"8_\" href=\"#_8\">ལམ</a></dfn>་<dfn class=\"cc\" title=\"[['по направлению/месту', 'отсутствие заявленной цели', 'adj+ly'], ['Предоставление чего-либо', 'кому-либо', 'для', 'что-бы'], ['взаиморасположение и местопребывание', 'без движения', 'относительно', 'касательно', 'в обстоятельствах', 'место', 'время', 'среди..', 'заголовки', 'идти']]\"><a id=\"21_\" href=\"#_21\">ལ</a></dfn>་<dfn class=\"cc\" title=\"['set; state; establish; arrange; register; make a record; place [on throne]; put [a signature]; array; affix']\"><a id=\"16_\" href=\"#_16\">བཀོད</a></dfn>༔ འབྲེལ་ཚད་དོན་<dfn class=\"cc\" title=\"['обладающий', 'наделенный']\"><a id=\"22_\" href=\"#_22\">ལྡན</a></dfn>་ངོ་<dfn class=\"cc\" title=\"['fantastic']\"><a id=\"23_\" href=\"#_23\">མཚར</a></dfn>་<dfn class=\"cc\" title=\"['verb: think; contemplate; noun: thought']\"><a id=\"24_\" href=\"#_24\">བསམ</a></dfn>་<dfn class=\"cc\" title=\"['после', 'затем', 'деепричастие …ев/ув', 'среди различных', 'сравнит чем', 'action; deed; work; having (done something)']\"><a id=\"6_\" href=\"#_6\">ལས</a></dfn>་<dfn class=\"cc\" title=\"[\"pass; go beyond; supramundane{BJ 52.7}; short for: mya ngan las 'das pa; [sorrow-from-passed]; nirvāṇa\"]\"><a id=\"25_\" href=\"#_25\">འདས</a></dfn>༔ མཚན་<dfn class=\"cc\" title=\"['после', 'затем', 'деепричастие …ев/ув', 'среди различных', 'сравнит чем', 'action; deed; work; having (done something)']\"><a id=\"6_\" href=\"#_6\">ལས</a></dfn>་<dfn class=\"cc\" title=\"['beginning; composition{BJ 9.4}; to be based [on]']\"><a id=\"26_\" href=\"#_26\">བརྩམས</a></dfn>་པ་<dfn class=\"cc\" title=\"[['владение/принадлежность', 'соответствующее основе качество', 'место объекта', 'часть из/среди целого'], ['дополнения строф']]\"><a id=\"1_\" href=\"#_1\">འི</a></dfn>་མཐའ་<dfn class=\"cc\" title=\"['analyze; investigate; examine; cut; cutting; analysis{BJ 10.3}; discrimination']\"><a id=\"27_\" href=\"#_27\">དཔྱད</a></dfn>་དོ། </br><div class=\"cite_src\">བླ་མ་<dfn class=\"cc\" title=\"[['владение/принадлежность', 'соответствующее основе качество', 'место объекта', 'часть из/среди целого'], ['дополнения строф']]\"><a id=\"1_\" href=\"#_1\">འི</a></dfn>་ཐུགས་<dfn class=\"cc\" title=\"['achieve; attain; accomplish; prove; complete; practice']\"><a id=\"2_\" href=\"#_2\">སྒྲུབ</a></dfn>་རྡོ་<dfn class=\"cc\" title=\"['master; lord; leaders']\"><a id=\"3_\" href=\"#_3\">རྗེ</a></dfn>་<dfn class=\"cc\" title=\"['fierce; violent; terrible']\"><a id=\"4_\" href=\"#_4\">དྲག</a></dfn>་<dfn class=\"cc\" title=\"['capacity; manifest capacity; dexterity; power']\"><a id=\"5_\" href=\"#_5\">རྩལ</a></dfn>་<dfn class=\"cc\" title=\"['после', 'затем', 'деепричастие …ев/ув', 'среди различных', 'сравнит чем', 'action; deed; work; having (done something)']\"><a id=\"6_\" href=\"#_6\">ལས</a></dfn>༔</div> <div class=\"cite\">ཞལ་<dfn class=\"cc\" title=\"['advise; counsel']\"><a id=\"7_\" href=\"#_7\">གདམས</a></dfn>་<dfn class=\"cc\" title=\"['..или.', '.?', '.,', 'path; way; road; [connective particle:] and; or']\"><a id=\"8_\" href=\"#_8\">ལམ</a></dfn>་རིམ་ཡེ་<dfn class=\"cc\" title=\"['to know; cognition; consciousness (=shes pa); can  (knowlege); understand, quote (=shes bya ba)']\"><a id=\"9_\" href=\"#_9\">ཤེས</a></dfn>་སྙིང་པོ༔ </br>ཞལ་<dfn class=\"cc\" title=\"['advise; counsel']\"><a id=\"7_\" href=\"#_7\">གདམས</a></dfn>་<dfn class=\"cc\" title=\"['..или.', '.?', '.,', 'path; way; road; [connective particle:] and; or']\"><a id=\"8_\" href=\"#_8\">ལམ</a></dfn>་རིམ་ཡེ་<dfn class=\"cc\" title=\"['to know; cognition; consciousness (=shes pa); can  (knowlege); understand, quote (=shes bya ba)']\"><a id=\"9_\" href=\"#_9\">ཤེས</a></dfn>་སྙིང་པོ༔</div> ཞེས་པ་<dfn class=\"cc\" title=\"['дополнения строф']\"><a id=\"28_\" href=\"#_28\">འོ</a></dfn>།། </br>།ཨོ་<dfn class=\"cc\" title=\"['ornament; adornment']\"><a id=\"29_\" href=\"#_29\">རྒྱན</a></dfn>་<dfn class=\"cc\" title=\"['self; I [can be used to refer to oneself]; nature; entity']\"><a id=\"30_\" href=\"#_30\">བདག</a></dfn>་<dfn class=\"cc\" title=\"['деятель', 'инструмент', 'c отношением', 'По причине', 'из-за', 'вследствии']\"><a id=\"31_\" href=\"#_31\">གིས</a></dfn>་རྒྱུད་ལུང་<dfn class=\"cc\" title=\"['собирание и разделение', 'по причине', '..непосредственно после', 'наставление/указание']\"><a id=\"32_\" href=\"#_32\">དང</a></dfn>་༔ \n",
      "<h4 class=\"Topic\">མན་ངག་གཞན་<dfn class=\"cc\" title=\"[['по направлению/месту', 'отсутствие заявленной цели', 'adj+ly'], ['Предоставление чего-либо', 'кому-либо', 'для', 'что-бы'], ['взаиморасположение и местопребывание', 'без движения', 'относительно', 'касательно', 'в обстоятельствах', 'место', 'время', 'среди..', 'заголовки', 'идти']]\"><a id=\"21_\" href=\"#_21\">ལ</a></dfn>་<dfn class=\"cc\" title=\"['depend upon; rely; resort to; support']\"><a id=\"33_\" href=\"#_33\">བརྟེན</a></dfn>་<dfn class=\"cc\" title=\"['после', 'затем', 'деепричастие …ев/ув', 'среди подобных', 'от .. и до..']\"><a id=\"34_\" href=\"#_34\">ནས</a></dfn>་<dfn class=\"cc\" title=\"['..-', '..касаемо']\"><a id=\"17_\" href=\"#_17\">ནི</a></dfn>༔</h4>\n",
      " འབྲེལ་བ་<dfn class=\"cc\" title=\"[['владение/принадлежность', 'соответствующее основе качество', 'место объекта', 'часть из/среди целого'], ['дополнения строф']]\"><a id=\"1_\" href=\"#_1\">འི</a></dfn>་ཚུལ་<dfn class=\"cc\" title=\"[['по направлению/месту', 'отсутствие заявленной цели', 'adj+ly'], ['Предоставление чего-либо', 'кому-либо', 'для', 'что-бы'], ['взаиморасположение и местопребывание', 'без движения', 'относительно', 'касательно', 'в обстоятельствах', 'место', 'время', 'среди..', 'заголовки']]\"><a id=\"35_\" href=\"#_35\">དུ</a></dfn>་མ་བཀྲལ་བར༔ རྒྱུད་ལུང་མན་ངག་<dfn class=\"cc\" title=\"['ascertain; ascertainment; certain']\"><a id=\"36_\" href=\"#_36\">ངེས</a></dfn>་པ་<dfn class=\"cc\" title=\"[['владение/принадлежность', 'соответствующее основе качество', 'место объекта', 'часть из/среди целого'], ['дополнения строф']]\"><a id=\"1_\" href=\"#_1\">འི</a></dfn>་དོན༔ སྙིང་པོ་<dfn class=\"cc\" title=\"['после', 'затем', 'деепричастие …ев/ув', 'среди различных', 'сравнит чем', 'action; deed; work; having (done something)']\"><a id=\"6_\" href=\"#_6\">ལས</a></dfn>་<dfn class=\"cc\" title=\"['и .. тоже', 'действительно', 'слишком', 'хотя..', 'но..', 'даже..', 'тоже', 'также..']\"><a id=\"37_\" href=\"#_37\">ཀྱང</a></dfn>་སྙིང་པོ་<dfn class=\"cc\" title=\"[['владение/принадлежность', 'соответствующее основе качество', 'место объекта', 'часть из/среди целого'], ['дополнения строф']]\"><a id=\"1_\" href=\"#_1\">འི</a></dfn>་བཅུད༔ ཐུགས་<dfn class=\"cc\" title=\"['владение/принадлежность', 'соответствующее основе качество', 'место объекта', 'часть из/среди целого']\"><a id=\"38_\" href=\"#_38\">ཀྱི</a></dfn>་ཐིག་ལེར་རབ་ཞུགས་པོ༔  </br>ཆོས་ཉིད་རང་སྒྲར་<dfn class=\"cc\" title=\"['to appear; perceive; light; illuminate; appearance']\"><a id=\"39_\" href=\"#_39\">སྣང</a></dfn>་བས་<dfn class=\"cc\" title=\"[['если'], ['по направлению/месту', 'отсутствие заявленной цели', 'adj+ly'], ['Предоставление чего-либо', 'кому-либо', 'для', 'что-бы'], ['взаиморасположение и местопребывание', 'без движения', 'относительно', 'касательно', 'в обстоятельствах', 'место', 'время', 'среди..', 'заголовки'], ['be sick; be ill; in pain for the verb', 'na ba']]\"><a id=\"40_\" href=\"#_40\">ན</a></dfn>༔ རྒྱུད་<dfn class=\"cc\" title=\"['собирание и разделение', 'по причине', '..непосредственно после', 'наставление/указание']\"><a id=\"32_\" href=\"#_32\">དང</a></dfn>་མི་<dfn class=\"cc\" title=\"['contradict; contradictory with; mutually exclusive with']\"><a id=\"41_\" href=\"#_41\">འགལ</a></dfn>་ལུང་<dfn class=\"cc\" title=\"['собирание и разделение', 'по причине', '..непосредственно после', 'наставление/указание']\"><a id=\"32_\" href=\"#_32\">དང</a></dfn>་མཐུན༔ མན་ངག་<dfn class=\"cc\" title=\"['to taste; try, experience; undergo; enjoy; feel']\"><a id=\"42_\" href=\"#_42\">མྱོང</a></dfn>་བས་ཁྱད་<dfn class=\"cc\" title=\"['Superior; noble']\"><a id=\"43_\" href=\"#_43\">འཕགས</a></dfn>་པ༔ ཞེས་<dfn class=\"cc\" title=\"['said; mentioned; say; talk H']\"><a id=\"44_\" href=\"#_44\">གསུངས</a></dfn>་པ་<dfn class=\"cc\" title=\"['ābha', 'like; thus; in accordance with']\"><a id=\"45_\" href=\"#_45\">ལྟར</a></dfn>་རོ། </br>འབྲེལ་ཚད་དོན་<dfn class=\"cc\" title=\"['обладающий', 'наделенный']\"><a id=\"22_\" href=\"#_22\">ལྡན</a></dfn>་ངོ་<dfn class=\"cc\" title=\"['fantastic']\"><a id=\"23_\" href=\"#_23\">མཚར</a></dfn>་<dfn class=\"cc\" title=\"['verb: think; contemplate; noun: thought']\"><a id=\"24_\" href=\"#_24\">བསམ</a></dfn>་<dfn class=\"cc\" title=\"['после', 'затем', 'деепричастие …ев/ув', 'среди различных', 'сравнит чем', 'action; deed; work; having (done something)']\"><a id=\"6_\" href=\"#_6\">ལས</a></dfn>་<dfn class=\"cc\" title=\"[\"pass; go beyond; supramundane{BJ 52.7}; short for: mya ngan las 'das pa; [sorrow-from-passed]; nirvāṇa\"]\"><a id=\"25_\" href=\"#_25\">འདས</a></dfn>༔ \n",
      "<p id=\"_1\">1 <a lang=\"bo\" href=\"#1_\">འི</a> = [['владение/принадлежность', 'соответствующее основе качество', 'место объекта', 'часть из/среди целого'], ['дополнения строф']]</p>\n",
      "<p id=\"_2\">2 <a lang=\"bo\" href=\"#2_\">སྒྲུབ</a> = ['achieve; attain; accomplish; prove; complete; practice']</p>\n",
      "<p id=\"_3\">3 <a lang=\"bo\" href=\"#3_\">རྗེ</a> = ['master; lord; leaders']</p>\n",
      "<p id=\"_4\">4 <a lang=\"bo\" href=\"#4_\">དྲག</a> = ['fierce; violent; terrible']</p>\n",
      "<p id=\"_5\">5 <a lang=\"bo\" href=\"#5_\">རྩལ</a> = ['capacity; manifest capacity; dexterity; power']</p>\n",
      "<p id=\"_6\">6 <a lang=\"bo\" href=\"#6_\">ལས</a> = ['после', 'затем', 'деепричастие …ев/ув', 'среди различных', 'сравнит чем', 'action; deed; work; having (done something)']</p>\n",
      "<p id=\"_7\">7 <a lang=\"bo\" href=\"#7_\">གདམས</a> = ['advise; counsel']</p>\n",
      "<p id=\"_8\">8 <a lang=\"bo\" href=\"#8_\">ལམ</a> = ['..или.', '.?', '.,', 'path; way; road; [connective particle:] and; or']</p>\n",
      "<p id=\"_9\">9 <a lang=\"bo\" href=\"#9_\">ཤེས</a> = ['to know; cognition; consciousness (=shes pa); can  (knowlege); understand, quote (=shes bya ba)']</p>\n",
      "<p id=\"_10\">10 <a lang=\"bo\" href=\"#10_\">བཞུགས་སོ</a> = ['так называется']</p>\n",
      "<p id=\"_11\">11 <a lang=\"bo\" href=\"#11_\">རྒྱས</a> = ['verb: extend; fill; spread; increase; further; adjective: extensive; broad; wide; full']</p>\n",
      "<p id=\"_12\">12 <a lang=\"bo\" href=\"#12_\">བསྟན</a> = ['to show (past/present/future honorific)']</p>\n",
      "<p id=\"_13\">13 <a lang=\"bo\" href=\"#13_\">རྒྱལ</a> = ['conquest; victory']</p>\n",
      "<p id=\"_14\">14 <a lang=\"bo\" href=\"#14_\">མཚན</a> = ['name; characteristic(s){BJ 38.1}; night; sign; mark; symptom; sexual sign; name; marked with']</p>\n",
      "<p id=\"_15\">15 <a lang=\"bo\" href=\"#15_\">བསྒྲེངས</a> = ['raise']</p>\n",
      "<p id=\"_16\">16 <a lang=\"bo\" href=\"#16_\">བཀོད</a> = ['set; state; establish; arrange; register; make a record; place [on throne]; put [a signature]; array; affix']</p>\n",
      "<p id=\"_17\">17 <a lang=\"bo\" href=\"#17_\">ནི</a> = ['..-', '..касаемо']</p>\n",
      "<p id=\"_18\">18 <a lang=\"bo\" href=\"#18_\">ཅན</a> = ['обладающий']</p>\n",
      "<p id=\"_19\">19 <a lang=\"bo\" href=\"#19_\">སྨིན</a> = ['ripen; mature; fructify; [for smin ma:] eyebrow']</p>\n",
      "<p id=\"_20\">20 <a lang=\"bo\" href=\"#20_\">གྲོལ</a> = ['released; loosened; freed']</p>\n",
      "<p id=\"_21\">21 <a lang=\"bo\" href=\"#21_\">ལ</a> = [['по направлению/месту', 'отсутствие заявленной цели', 'adj+ly'], ['Предоставление чего-либо', 'кому-либо', 'для', 'что-бы'], ['взаиморасположение и местопребывание', 'без движения', 'относительно', 'касательно', 'в обстоятельствах', 'место', 'время', 'среди..', 'заголовки', 'идти']]</p>\n",
      "<p id=\"_22\">22 <a lang=\"bo\" href=\"#22_\">ལྡན</a> = ['обладающий', 'наделенный']</p>\n",
      "<p id=\"_23\">23 <a lang=\"bo\" href=\"#23_\">མཚར</a> = ['fantastic']</p>\n",
      "<p id=\"_24\">24 <a lang=\"bo\" href=\"#24_\">བསམ</a> = ['verb: think; contemplate; noun: thought']</p>\n",
      "<p id=\"_25\">25 <a lang=\"bo\" href=\"#25_\">འདས</a> = [\"pass; go beyond; supramundane{BJ 52.7}; short for: mya ngan las 'das pa; [sorrow-from-passed]; nirvāṇa\"]</p>\n",
      "<p id=\"_26\">26 <a lang=\"bo\" href=\"#26_\">བརྩམས</a> = ['beginning; composition{BJ 9.4}; to be based [on]']</p>\n",
      "<p id=\"_27\">27 <a lang=\"bo\" href=\"#27_\">དཔྱད</a> = ['analyze; investigate; examine; cut; cutting; analysis{BJ 10.3}; discrimination']</p>\n",
      "<p id=\"_28\">28 <a lang=\"bo\" href=\"#28_\">འོ</a> = ['дополнения строф']</p>\n",
      "<p id=\"_29\">29 <a lang=\"bo\" href=\"#29_\">རྒྱན</a> = ['ornament; adornment']</p>\n",
      "<p id=\"_30\">30 <a lang=\"bo\" href=\"#30_\">བདག</a> = ['self; I [can be used to refer to oneself]; nature; entity']</p>\n",
      "<p id=\"_31\">31 <a lang=\"bo\" href=\"#31_\">གིས</a> = ['деятель', 'инструмент', 'c отношением', 'По причине', 'из-за', 'вследствии']</p>\n",
      "<p id=\"_32\">32 <a lang=\"bo\" href=\"#32_\">དང</a> = ['собирание и разделение', 'по причине', '..непосредственно после', 'наставление/указание']</p>\n",
      "<p id=\"_33\">33 <a lang=\"bo\" href=\"#33_\">བརྟེན</a> = ['depend upon; rely; resort to; support']</p>\n",
      "<p id=\"_34\">34 <a lang=\"bo\" href=\"#34_\">ནས</a> = ['после', 'затем', 'деепричастие …ев/ув', 'среди подобных', 'от .. и до..']</p>\n",
      "<p id=\"_35\">35 <a lang=\"bo\" href=\"#35_\">དུ</a> = [['по направлению/месту', 'отсутствие заявленной цели', 'adj+ly'], ['Предоставление чего-либо', 'кому-либо', 'для', 'что-бы'], ['взаиморасположение и местопребывание', 'без движения', 'относительно', 'касательно', 'в обстоятельствах', 'место', 'время', 'среди..', 'заголовки']]</p>\n",
      "<p id=\"_36\">36 <a lang=\"bo\" href=\"#36_\">ངེས</a> = ['ascertain; ascertainment; certain']</p>\n",
      "<p id=\"_37\">37 <a lang=\"bo\" href=\"#37_\">ཀྱང</a> = ['и .. тоже', 'действительно', 'слишком', 'хотя..', 'но..', 'даже..', 'тоже', 'также..']</p>\n",
      "<p id=\"_38\">38 <a lang=\"bo\" href=\"#38_\">ཀྱི</a> = ['владение/принадлежность', 'соответствующее основе качество', 'место объекта', 'часть из/среди целого']</p>\n",
      "<p id=\"_39\">39 <a lang=\"bo\" href=\"#39_\">སྣང</a> = ['to appear; perceive; light; illuminate; appearance']</p>\n",
      "<p id=\"_40\">40 <a lang=\"bo\" href=\"#40_\">ན</a> = [['если'], ['по направлению/месту', 'отсутствие заявленной цели', 'adj+ly'], ['Предоставление чего-либо', 'кому-либо', 'для', 'что-бы'], ['взаиморасположение и местопребывание', 'без движения', 'относительно', 'касательно', 'в обстоятельствах', 'место', 'время', 'среди..', 'заголовки'], ['be sick; be ill; in pain for the verb', 'na ba']]</p>\n",
      "<p id=\"_41\">41 <a lang=\"bo\" href=\"#41_\">འགལ</a> = ['contradict; contradictory with; mutually exclusive with']</p>\n",
      "<p id=\"_42\">42 <a lang=\"bo\" href=\"#42_\">མྱོང</a> = ['to taste; try, experience; undergo; enjoy; feel']</p>\n",
      "<p id=\"_43\">43 <a lang=\"bo\" href=\"#43_\">འཕགས</a> = ['Superior; noble']</p>\n",
      "<p id=\"_44\">44 <a lang=\"bo\" href=\"#44_\">གསུངས</a> = ['said; mentioned; say; talk H']</p>\n",
      "<p id=\"_45\">45 <a lang=\"bo\" href=\"#45_\">ལྟར</a> = ['ābha', 'like; thus; in accordance with']</p>\n",
      "\n"
     ]
    }
   ],
   "source": [
    "dct_str=\"\"\n",
    "lst=list(dict.fromkeys(re.findall(r'\\[(\\S+?)\\]', res_strn)))\n",
    "print(lst)\n",
    "cnt=1\n",
    "for ind, k in enumerate(lst): # идем по строке\n",
    "    # создаем тэги для строки\n",
    "    res_strn=res_strn.replace(f'[{k}]', f'<dfn class=\"cc\" title=\"{res_dct[k]}\"><a id=\"{cnt}_\" href=\"#_{cnt}\">{k}</a></dfn>')\n",
    "    #создаем тэги для словарика\n",
    "    dct_str+=f'<p id=\"_{cnt}\">{cnt} <a lang=\"bo\" href=\"#{cnt}_\">{k}</a> = {res_dct[k]}</p>\\n'#завернуть в тиб тег\n",
    "    cnt+=1\n",
    "print(res_strn)\n",
    "print(dct_str)"
   ]
  },
  {
   "cell_type": "markdown",
   "metadata": {},
   "source": [
    "##### 4.а) Запись в HTML"
   ]
  },
  {
   "cell_type": "code",
   "execution_count": 9,
   "metadata": {},
   "outputs": [],
   "source": [
    "from IPython.core.display import display, HTML\n",
    "\n",
    "with open('Result_Lotsawa.html', 'r', encoding='utf-8') as f:\n",
    "    res_html=f.read()       \n",
    "    \n",
    "    #пишем тэги для строки\n",
    "    res_html=re.sub(r'<section lang=\"bo\">\\n([\\s\\S]*?)</section>', f'<section lang=\"bo\">\\n{res_strn}\\n</section>',res_html)\n",
    "    #пишем тэги для словарика\n",
    "    res_html=re.sub(r'<section class=\"dict\">\\n([\\s\\S]*?)</section>', f'<section class=\"dict\">\\n{dct_str}</section>',res_html)\n",
    "\n",
    "with open('Result_Lotsawa.html', 'w', encoding='utf-8') as wf:   \n",
    "    wf.write(res_html)"
   ]
  },
  {
   "cell_type": "markdown",
   "metadata": {},
   "source": [
    "##### 4.б) Вывод здесь во фрейме"
   ]
  },
  {
   "cell_type": "code",
   "execution_count": 31,
   "metadata": {},
   "outputs": [
    {
     "data": {
      "text/html": [
       "\n",
       "        <iframe\n",
       "            width=\"910\"\n",
       "            height=\"600\"\n",
       "            src=\"\\Result_Lotsawa.html\"\n",
       "            frameborder=\"0\"\n",
       "            allowfullscreen\n",
       "        ></iframe>\n",
       "        "
      ],
      "text/plain": [
       "<IPython.lib.display.IFrame at 0x1ddc3ad5f60>"
      ]
     },
     "execution_count": 31,
     "metadata": {},
     "output_type": "execute_result"
    }
   ],
   "source": [
    "from IPython.display import IFrame\n",
    "IFrame(src='\\Result_Lotsawa.html', width=910, height=600)"
   ]
  },
  {
   "cell_type": "markdown",
   "metadata": {},
   "source": [
    "___"
   ]
  },
  {
   "cell_type": "markdown",
   "metadata": {},
   "source": [
    "c"
   ]
  },
  {
   "cell_type": "code",
   "execution_count": null,
   "metadata": {},
   "outputs": [],
   "source": [
    "my_string=b'\\x1f'.decode('utf-8')\n",
    "print(my_string)  # str"
   ]
  }
 ],
 "metadata": {
  "kernelspec": {
   "display_name": "Python 3",
   "language": "python",
   "name": "python3"
  },
  "language_info": {
   "codemirror_mode": {
    "name": "ipython",
    "version": 3
   },
   "file_extension": ".py",
   "mimetype": "text/x-python",
   "name": "python",
   "nbconvert_exporter": "python",
   "pygments_lexer": "ipython3",
   "version": "3.7.0"
  }
 },
 "nbformat": 4,
 "nbformat_minor": 4
}
